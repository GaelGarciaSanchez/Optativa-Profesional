{
  "nbformat": 4,
  "nbformat_minor": 0,
  "metadata": {
    "colab": {
      "provenance": [],
      "authorship_tag": "ABX9TyPe++W5Z4po6BMetSRLlUGO",
      "include_colab_link": true
    },
    "kernelspec": {
      "name": "python3",
      "display_name": "Python 3"
    },
    "language_info": {
      "name": "python"
    }
  },
  "cells": [
    {
      "cell_type": "markdown",
      "metadata": {
        "id": "view-in-github",
        "colab_type": "text"
      },
      "source": [
        "<a href=\"https://colab.research.google.com/github/GaelGarciaSanchez/Optativa-Profesional/blob/main/Uniones.ipynb\" target=\"_parent\"><img src=\"https://colab.research.google.com/assets/colab-badge.svg\" alt=\"Open In Colab\"/></a>"
      ]
    },
    {
      "cell_type": "markdown",
      "source": [
        "Ejercicio 6"
      ],
      "metadata": {
        "id": "7bYTh4ryyFxa"
      }
    },
    {
      "cell_type": "markdown",
      "source": [
        "# **Tipos de Uniones (JOINS en python)**"
      ],
      "metadata": {
        "id": "vmHzkdTzxyYF"
      }
    },
    {
      "cell_type": "markdown",
      "source": [
        "inner\n",
        "cross\n",
        "left\n",
        "right"
      ],
      "metadata": {
        "id": "YXWW4tDwx8Ft"
      }
    },
    {
      "cell_type": "code",
      "execution_count": 3,
      "metadata": {
        "id": "UTz010G1xoSc"
      },
      "outputs": [],
      "source": [
        "import pandas as pd"
      ]
    },
    {
      "cell_type": "markdown",
      "source": [
        "Crear 2 data frames\n"
      ],
      "metadata": {
        "id": "xiP09gNUyE2k"
      }
    },
    {
      "cell_type": "code",
      "source": [
        "df1 = pd.DataFrame({\n",
        "    'ID':[1,2,3,4],\n",
        "    'Nombre':['Ana','Juan','Maria','Carlos'],\n",
        "    'departamento':['Ventas','IT','Marketing','RH']\n",
        "})\n",
        "df2 = pd.DataFrame({\n",
        "    'ID':[3,4,5,6],\n",
        "    'Salario':[5000,6000,5500,7000]\n",
        "})\n",
        "\n",
        "print(\"Dataframe1\")\n",
        "print(df1)\n",
        "print(\"Dataframe2\")\n",
        "print(df2)"
      ],
      "metadata": {
        "colab": {
          "base_uri": "https://localhost:8080/"
        },
        "id": "QcJ21p7eyPuS",
        "outputId": "1fa99b3d-590d-4748-86d1-d0996c7212db"
      },
      "execution_count": 5,
      "outputs": [
        {
          "output_type": "stream",
          "name": "stdout",
          "text": [
            "Dataframe1\n",
            "   ID  Nombre departamento\n",
            "0   1     Ana       Ventas\n",
            "1   2    Juan           IT\n",
            "2   3   Maria    Marketing\n",
            "3   4  Carlos           RH\n",
            "Dataframe2\n",
            "   ID  Salario\n",
            "0   3     5000\n",
            "1   4     6000\n",
            "2   5     5500\n",
            "3   6     7000\n"
          ]
        }
      ]
    },
    {
      "cell_type": "markdown",
      "source": [
        "# **Fusion INNER**"
      ],
      "metadata": {
        "id": "yDm8aR2Gzd0U"
      }
    },
    {
      "cell_type": "code",
      "source": [
        "inner_merge=pd.merge(df1,df2,on='ID',how='inner')\n",
        "print(\"Fusion INNER\")\n",
        "print(inner_merge)"
      ],
      "metadata": {
        "colab": {
          "base_uri": "https://localhost:8080/"
        },
        "id": "vE6IIm-IzlZ0",
        "outputId": "0bcff474-0a52-4f3a-a564-482ae5fb87e8"
      },
      "execution_count": 6,
      "outputs": [
        {
          "output_type": "stream",
          "name": "stdout",
          "text": [
            "Fusion INNER\n",
            "   ID  Nombre departamento  Salario\n",
            "0   3   Maria    Marketing     5000\n",
            "1   4  Carlos           RH     6000\n"
          ]
        }
      ]
    },
    {
      "cell_type": "markdown",
      "source": [
        "# **Fusion Outer**"
      ],
      "metadata": {
        "id": "O1EfSo4H0NA2"
      }
    },
    {
      "cell_type": "code",
      "source": [
        "outer_merge=pd.merge(df1,df2,on='ID',how='outer')\n",
        "print(\"Fusion OUTER\")\n",
        "print(outer_merge)"
      ],
      "metadata": {
        "colab": {
          "base_uri": "https://localhost:8080/"
        },
        "id": "fW1K6CiA0dwP",
        "outputId": "9adf0da6-0f97-4093-8dd0-0feae5bce067"
      },
      "execution_count": 7,
      "outputs": [
        {
          "output_type": "stream",
          "name": "stdout",
          "text": [
            "Fusion OUTER\n",
            "   ID  Nombre departamento  Salario\n",
            "0   1     Ana       Ventas      NaN\n",
            "1   2    Juan           IT      NaN\n",
            "2   3   Maria    Marketing   5000.0\n",
            "3   4  Carlos           RH   6000.0\n",
            "4   5     NaN          NaN   5500.0\n",
            "5   6     NaN          NaN   7000.0\n"
          ]
        }
      ]
    },
    {
      "cell_type": "markdown",
      "source": [
        "# **Fusion Left**"
      ],
      "metadata": {
        "id": "LAK306220190"
      }
    },
    {
      "cell_type": "code",
      "source": [
        "inner_merge=pd.merge(df1,df2,on='ID',how='left')\n",
        "print(\"Fusion INNER\")\n",
        "print(inner_merge)"
      ],
      "metadata": {
        "colab": {
          "base_uri": "https://localhost:8080/"
        },
        "id": "SSk90s6y08Ut",
        "outputId": "849a0281-0170-4994-96ea-b558eb695400"
      },
      "execution_count": 8,
      "outputs": [
        {
          "output_type": "stream",
          "name": "stdout",
          "text": [
            "Fusion INNER\n",
            "   ID  Nombre departamento  Salario\n",
            "0   1     Ana       Ventas      NaN\n",
            "1   2    Juan           IT      NaN\n",
            "2   3   Maria    Marketing   5000.0\n",
            "3   4  Carlos           RH   6000.0\n"
          ]
        }
      ]
    },
    {
      "cell_type": "markdown",
      "source": [
        "prueba con outer"
      ],
      "metadata": {
        "id": "a7FfGtx11CuU"
      }
    },
    {
      "cell_type": "markdown",
      "source": [
        "# **Fusion Right**"
      ],
      "metadata": {
        "id": "cHQk9nBM1WVs"
      }
    },
    {
      "cell_type": "code",
      "source": [
        "outer_merge=pd.merge(df1,df2,on='ID',how='left')\n",
        "print(\"Fusion OUTER\")\n",
        "print(outer_merge)"
      ],
      "metadata": {
        "colab": {
          "base_uri": "https://localhost:8080/"
        },
        "id": "xhD3mfpy1FHh",
        "outputId": "891e16b7-c13a-41ae-c7fd-eca073117b34"
      },
      "execution_count": 9,
      "outputs": [
        {
          "output_type": "stream",
          "name": "stdout",
          "text": [
            "Fusion OUTER\n",
            "   ID  Nombre departamento  Salario\n",
            "0   1     Ana       Ventas      NaN\n",
            "1   2    Juan           IT      NaN\n",
            "2   3   Maria    Marketing   5000.0\n",
            "3   4  Carlos           RH   6000.0\n"
          ]
        }
      ]
    },
    {
      "cell_type": "code",
      "source": [
        "inner_merge=pd.merge(df1,df2,on='ID',how='right')\n",
        "print(\"Fusion INNER\")\n",
        "print(inner_merge)"
      ],
      "metadata": {
        "colab": {
          "base_uri": "https://localhost:8080/"
        },
        "id": "SlLW-hCj1apq",
        "outputId": "2b9d1148-ac41-449c-bdef-7244fb8973bf"
      },
      "execution_count": 11,
      "outputs": [
        {
          "output_type": "stream",
          "name": "stdout",
          "text": [
            "Fusion INNER\n",
            "   ID  Nombre departamento  Salario\n",
            "0   3   Maria    Marketing     5000\n",
            "1   4  Carlos           RH     6000\n",
            "2   5     NaN          NaN     5500\n",
            "3   6     NaN          NaN     7000\n"
          ]
        }
      ]
    },
    {
      "cell_type": "markdown",
      "source": [
        "dataframe 3"
      ],
      "metadata": {
        "id": "lR2haOZ11rki"
      }
    },
    {
      "cell_type": "code",
      "source": [
        "df3 = pd.DataFrame({\n",
        "    'ID':[7,8],\n",
        "    'Nombre':['Sofia','Pedro'],\n",
        "    'departamento':['Finanzas','ventas']\n",
        "})\n",
        "concatenated = pd.concat([df1,df3])\n",
        "print(\"Concatenacion de Dataframes\")\n",
        "print(concatenated)"
      ],
      "metadata": {
        "colab": {
          "base_uri": "https://localhost:8080/"
        },
        "id": "RMhbgeTy1q6p",
        "outputId": "1ad9e2b8-0b18-401b-98de-2ffb10e0b18f"
      },
      "execution_count": 13,
      "outputs": [
        {
          "output_type": "stream",
          "name": "stdout",
          "text": [
            "Concatenacion de Dataframes\n",
            "   ID  Nombre departamento\n",
            "0   1     Ana       Ventas\n",
            "1   2    Juan           IT\n",
            "2   3   Maria    Marketing\n",
            "3   4  Carlos           RH\n",
            "0   7   Sofia     Finanzas\n",
            "1   8   Pedro       ventas\n"
          ]
        }
      ]
    }
  ]
}