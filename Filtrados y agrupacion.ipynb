{
  "nbformat": 4,
  "nbformat_minor": 0,
  "metadata": {
    "colab": {
      "provenance": [],
      "authorship_tag": "ABX9TyNn/jOGefNSwLD8fmXXmVSL",
      "include_colab_link": true
    },
    "kernelspec": {
      "name": "python3",
      "display_name": "Python 3"
    },
    "language_info": {
      "name": "python"
    }
  },
  "cells": [
    {
      "cell_type": "markdown",
      "metadata": {
        "id": "view-in-github",
        "colab_type": "text"
      },
      "source": [
        "<a href=\"https://colab.research.google.com/github/GaelGarciaSanchez/Optativa-Profesional/blob/main/Filtrados%20y%20agrupacion.ipynb\" target=\"_parent\"><img src=\"https://colab.research.google.com/assets/colab-badge.svg\" alt=\"Open In Colab\"/></a>"
      ]
    },
    {
      "cell_type": "code",
      "execution_count": 1,
      "metadata": {
        "id": "2SvYIRfbvdH7"
      },
      "outputs": [],
      "source": [
        "import pandas as pd\n",
        "import numpy as np"
      ]
    },
    {
      "cell_type": "markdown",
      "source": [],
      "metadata": {
        "id": "T_b6pvfSvlne"
      }
    },
    {
      "cell_type": "code",
      "source": [
        "df=pd.DataFrame({\n",
        "    'Nombre':['Ana','Juan','Maria','Carlos','Sofia'],\n",
        "    'Edad':[25,30,22,28,35],\n",
        "    'pais':['Madrid','Barcelona','Madrid','Valencia','Barcelona'],\n",
        "    'Puntuacion':[85,92,78,95,88]\n",
        "})\n",
        "print(\"\\nDataframe original:\")\n",
        "print(df)"
      ],
      "metadata": {
        "colab": {
          "base_uri": "https://localhost:8080/"
        },
        "id": "YD1RPQjvvp42",
        "outputId": "4d6bcf92-13b4-4a6f-829d-382e5a42427c"
      },
      "execution_count": 2,
      "outputs": [
        {
          "output_type": "stream",
          "name": "stdout",
          "text": [
            "\n",
            "Dataframe original:\n",
            "   Nombre  Edad       pais  Puntuacion\n",
            "0     Ana    25     Madrid          85\n",
            "1    Juan    30  Barcelona          92\n",
            "2   Maria    22     Madrid          78\n",
            "3  Carlos    28   Valencia          95\n",
            "4   Sofia    35  Barcelona          88\n"
          ]
        }
      ]
    },
    {
      "cell_type": "markdown",
      "source": [
        "Filtrado"
      ],
      "metadata": {
        "id": "nAsRo_Baw33m"
      }
    },
    {
      "cell_type": "code",
      "source": [
        "mayores_25=df[df['Edad']>25]\n",
        "print(\"\\nPersonas mayores de 25 años:\")\n",
        "print(mayores_25)"
      ],
      "metadata": {
        "colab": {
          "base_uri": "https://localhost:8080/"
        },
        "id": "sb2AMnLOw5CS",
        "outputId": "cd2b6f77-8974-4b15-9572-6e1f25c167ce"
      },
      "execution_count": 3,
      "outputs": [
        {
          "output_type": "stream",
          "name": "stdout",
          "text": [
            "\n",
            "Personas mayores de 25 años:\n",
            "   Nombre  Edad       pais  Puntuacion\n",
            "1    Juan    30  Barcelona          92\n",
            "3  Carlos    28   Valencia          95\n",
            "4   Sofia    35  Barcelona          88\n"
          ]
        }
      ]
    },
    {
      "cell_type": "markdown",
      "source": [
        "Agrupacion y agregacion"
      ],
      "metadata": {
        "id": "YRgyPJgdxVGV"
      }
    },
    {
      "cell_type": "code",
      "source": [
        "Resultado=df[df['Edad'] > 25].groupby('pais')['Puntuacion'].max()\n",
        "print(\"\\nPromedio de puntuacion por pais:\")\n",
        "print(Resultado)"
      ],
      "metadata": {
        "colab": {
          "base_uri": "https://localhost:8080/"
        },
        "id": "ReCKz_kxxYgV",
        "outputId": "9bf9b25e-21c9-4af2-ff66-b5ba08da81ad"
      },
      "execution_count": 7,
      "outputs": [
        {
          "output_type": "stream",
          "name": "stdout",
          "text": [
            "\n",
            "Promedio de puntuacion por pais:\n",
            "pais\n",
            "Barcelona    92\n",
            "Valencia     95\n",
            "Name: Puntuacion, dtype: int64\n"
          ]
        }
      ]
    }
  ]
}