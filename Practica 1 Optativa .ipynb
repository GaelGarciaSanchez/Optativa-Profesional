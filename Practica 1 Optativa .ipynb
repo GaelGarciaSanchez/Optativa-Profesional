{
  "nbformat": 4,
  "nbformat_minor": 0,
  "metadata": {
    "colab": {
      "provenance": [],
      "toc_visible": true,
      "authorship_tag": "ABX9TyPDOKl3zk0NTX3D/4DgKvtY",
      "include_colab_link": true
    },
    "kernelspec": {
      "name": "python3",
      "display_name": "Python 3"
    },
    "language_info": {
      "name": "python"
    }
  },
  "cells": [
    {
      "cell_type": "markdown",
      "metadata": {
        "id": "view-in-github",
        "colab_type": "text"
      },
      "source": [
        "<a href=\"https://colab.research.google.com/github/GaelGarciaSanchez/Optativa-Profesional/blob/main/Practica%201%20Optativa%20.ipynb\" target=\"_parent\"><img src=\"https://colab.research.google.com/assets/colab-badge.svg\" alt=\"Open In Colab\"/></a>"
      ]
    },
    {
      "cell_type": "code",
      "execution_count": null,
      "metadata": {
        "id": "lMxilLr_RqR1"
      },
      "outputs": [],
      "source": []
    },
    {
      "cell_type": "markdown",
      "source": [
        "# **Ejercicio 1 **\n",
        "tendremos que incluir las librerias que son necesarias\n",
        "\n"
      ],
      "metadata": {
        "id": "lK7kbD5dRrLr"
      }
    },
    {
      "cell_type": "code",
      "source": [
        "import pandas as pd\n",
        "import numpy as np\n",
        "import matplotlib.pyplot as plt\n",
        "import seaborn as sns"
      ],
      "metadata": {
        "id": "LVrv8UgJSDh-"
      },
      "execution_count": 1,
      "outputs": []
    },
    {
      "cell_type": "markdown",
      "source": [
        "# Crear una serie\n"
      ],
      "metadata": {
        "id": "gwjQWBGySJAj"
      }
    },
    {
      "cell_type": "code",
      "source": [
        "s=pd.Series([1,3,5,np.nan,6,8])\n",
        "print(\"Serie.\")\n",
        "print(s)"
      ],
      "metadata": {
        "colab": {
          "base_uri": "https://localhost:8080/"
        },
        "id": "PsNxYWQWTIIW",
        "outputId": "4b5d0018-4f77-4fa8-d71d-63f3f7adbb3b"
      },
      "execution_count": 2,
      "outputs": [
        {
          "output_type": "stream",
          "name": "stdout",
          "text": [
            "Serie.\n",
            "0    1.0\n",
            "1    3.0\n",
            "2    5.0\n",
            "3    NaN\n",
            "4    6.0\n",
            "5    8.0\n",
            "dtype: float64\n"
          ]
        }
      ]
    },
    {
      "cell_type": "markdown",
      "source": [
        "#Crear un dataframe"
      ],
      "metadata": {
        "id": "N8mZng-HT6k7"
      }
    },
    {
      "cell_type": "code",
      "source": [
        "df=pd.DataFrame({'A':[1,2,3,4],\n",
        "                 'B':pd.Timestamp('20130102'),\n",
        "                 'C':pd.Series(1,index=list(range(4)),dtype='float32'),\n",
        "                 'D':np.array([3]*4,dtype='int32'),\n",
        "                 'E':pd.Categorical([\"test\",\"train\",\"test\",\"train\"]),\n",
        "                 'F':'foo'\n",
        "                 })\n",
        "print(\"\\nDataframe.\")\n",
        "print(df)"
      ],
      "metadata": {
        "colab": {
          "base_uri": "https://localhost:8080/"
        },
        "id": "k0Fv1vu1T-_7",
        "outputId": "d760e0f4-9388-45a6-aaf3-e4d28fe6790f"
      },
      "execution_count": 5,
      "outputs": [
        {
          "output_type": "stream",
          "name": "stdout",
          "text": [
            "\n",
            "Dataframe.\n",
            "   A          B    C  D      E    F\n",
            "0  1 2013-01-02  1.0  3   test  foo\n",
            "1  2 2013-01-02  1.0  3  train  foo\n",
            "2  3 2013-01-02  1.0  3   test  foo\n",
            "3  4 2013-01-02  1.0  3  train  foo\n"
          ]
        }
      ]
    },
    {
      "cell_type": "markdown",
      "source": [],
      "metadata": {
        "id": "-4fWamWtWY8P"
      }
    },
    {
      "cell_type": "markdown",
      "source": [
        "# Como imprimir los tipos de datos asi como la cabeza y la cola de nuestro dataframe"
      ],
      "metadata": {
        "id": "zbpxOCz9WTU2"
      }
    },
    {
      "cell_type": "code",
      "source": [
        "print(\"\\nTipos de datos:\")\n",
        "print(df.dtypes)\n",
        "print(\"\\nprimeras 2 filas\")\n",
        "print(df.head(2))\n",
        "print(\"\\nultimas 2 filas\")\n",
        "print(df.tail(2))"
      ],
      "metadata": {
        "colab": {
          "base_uri": "https://localhost:8080/"
        },
        "id": "U3VBQeg2Uzm-",
        "outputId": "981750b6-42a0-4fc5-9107-031e4082fe01"
      },
      "execution_count": 6,
      "outputs": [
        {
          "output_type": "stream",
          "name": "stdout",
          "text": [
            "\n",
            "Tipos de datos:\n",
            "A            int64\n",
            "B    datetime64[s]\n",
            "C          float32\n",
            "D            int32\n",
            "E         category\n",
            "F           object\n",
            "dtype: object\n",
            "\n",
            "primeras 2 filas\n",
            "   A          B    C  D      E    F\n",
            "0  1 2013-01-02  1.0  3   test  foo\n",
            "1  2 2013-01-02  1.0  3  train  foo\n",
            "\n",
            "ultimas 2 filas\n",
            "   A          B    C  D      E    F\n",
            "2  3 2013-01-02  1.0  3   test  foo\n",
            "3  4 2013-01-02  1.0  3  train  foo\n"
          ]
        }
      ]
    },
    {
      "cell_type": "markdown",
      "source": [],
      "metadata": {
        "id": "4-hkKN2wWaTP"
      }
    }
  ]
}