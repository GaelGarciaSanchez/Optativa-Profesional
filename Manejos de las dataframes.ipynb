{
  "nbformat": 4,
  "nbformat_minor": 0,
  "metadata": {
    "colab": {
      "provenance": [],
      "authorship_tag": "ABX9TyPTTw9NjQ+SJF7XC0+OwNvn",
      "include_colab_link": true
    },
    "kernelspec": {
      "name": "python3",
      "display_name": "Python 3"
    },
    "language_info": {
      "name": "python"
    }
  },
  "cells": [
    {
      "cell_type": "markdown",
      "metadata": {
        "id": "view-in-github",
        "colab_type": "text"
      },
      "source": [
        "<a href=\"https://colab.research.google.com/github/GaelGarciaSanchez/Optativa-Profesional/blob/main/Manejos%20de%20las%20dataframes.ipynb\" target=\"_parent\"><img src=\"https://colab.research.google.com/assets/colab-badge.svg\" alt=\"Open In Colab\"/></a>"
      ]
    },
    {
      "cell_type": "markdown",
      "source": [
        "#Numpy libreria fundamental para la computacion de python\n",
        "\n"
      ],
      "metadata": {
        "id": "7X9-xCpkoZoA"
      }
    },
    {
      "cell_type": "markdown",
      "source": [
        "Importar pandas y numpy"
      ],
      "metadata": {
        "id": "qrVKAhLBozD1"
      }
    },
    {
      "cell_type": "code",
      "source": [
        "import pandas as pd\n",
        "import numpy as np"
      ],
      "metadata": {
        "id": "u9b1lbMSoknO"
      },
      "execution_count": 1,
      "outputs": []
    },
    {
      "cell_type": "markdown",
      "source": [
        "Crear dataframe con datos sucios"
      ],
      "metadata": {
        "id": "VGTZbXlOo2wm"
      }
    },
    {
      "cell_type": "code",
      "source": [
        "df = pd.DataFrame({\n",
        "        'A':[1,2,np.nan,4,5],\n",
        "        'B':[5,6,7,np.nan,9],\n",
        "        'C':['a','b','c','d','e'],\n",
        "        'E':[\"test\",\"train\",\"test\",\"train\",\"foo\"] })\n",
        "print(\"\\nDataframe.\")\n",
        "print(df)"
      ],
      "metadata": {
        "colab": {
          "base_uri": "https://localhost:8080/"
        },
        "id": "uP6I3jsdo6hw",
        "outputId": "9c2ed1b0-c7b1-41ee-ad20-920e836758de"
      },
      "execution_count": 7,
      "outputs": [
        {
          "output_type": "stream",
          "name": "stdout",
          "text": [
            "\n",
            "Dataframe.\n",
            "     A    B  C      E\n",
            "0  1.0  5.0  a   test\n",
            "1  2.0  6.0  b  train\n",
            "2  NaN  7.0  c   test\n",
            "3  4.0  NaN  d  train\n",
            "4  5.0  9.0  e    foo\n"
          ]
        }
      ]
    },
    {
      "cell_type": "markdown",
      "source": [
        "Limpiar datos en data frame"
      ],
      "metadata": {
        "id": "VkNVn5avrmQf"
      }
    },
    {
      "cell_type": "code",
      "source": [
        "df_clean = df.dropna()\n",
        "print(\"\\nDataframe sin filas nula.\")\n",
        "print(df_clean)"
      ],
      "metadata": {
        "colab": {
          "base_uri": "https://localhost:8080/"
        },
        "id": "AKr3Fw_mrejz",
        "outputId": "01e5a8c5-fe3a-4b43-8e89-e4c87bd8b33b"
      },
      "execution_count": 9,
      "outputs": [
        {
          "output_type": "stream",
          "name": "stdout",
          "text": [
            "\n",
            "Dataframe sin filas nula.\n",
            "     A    B  C      E\n",
            "0  1.0  5.0  a   test\n",
            "1  2.0  6.0  b  train\n",
            "4  5.0  9.0  e    foo\n"
          ]
        }
      ]
    },
    {
      "cell_type": "markdown",
      "source": [
        "Llenar datos"
      ],
      "metadata": {
        "id": "4FNpB8jyrohF"
      }
    },
    {
      "cell_type": "code",
      "source": [
        "df_filled = df.fillna(value={'A': df['A'].mean(),'B':df['B'].median()})\n",
        "print(\"\\nDataframe fillna.\")\n",
        "print(df_filled)"
      ],
      "metadata": {
        "colab": {
          "base_uri": "https://localhost:8080/"
        },
        "id": "2xAciBkbrqtG",
        "outputId": "a5812e62-ff81-4fae-fb23-17185b006fa7"
      },
      "execution_count": 12,
      "outputs": [
        {
          "output_type": "stream",
          "name": "stdout",
          "text": [
            "\n",
            "Dataframe fillna.\n",
            "     A    B  C      E\n",
            "0  1.0  5.0  a   test\n",
            "1  2.0  6.0  b  train\n",
            "2  3.0  7.0  c   test\n",
            "3  4.0  6.5  d  train\n",
            "4  5.0  9.0  e    foo\n"
          ]
        }
      ]
    },
    {
      "cell_type": "markdown",
      "source": [
        "eliminar duplicados\n"
      ],
      "metadata": {
        "id": "AGVqFZZLuLPB"
      }
    },
    {
      "cell_type": "code",
      "source": [
        "df_nodup = df.drop_duplicates(subset='E')\n",
        "print(\"\\nDataframe sin duplicados en la columna E.\")\n",
        "print(df_nodup)"
      ],
      "metadata": {
        "colab": {
          "base_uri": "https://localhost:8080/"
        },
        "id": "jzGjE5-juNJ2",
        "outputId": "954194fa-ba4e-423c-8c79-f9a1c2a3048d"
      },
      "execution_count": 14,
      "outputs": [
        {
          "output_type": "stream",
          "name": "stdout",
          "text": [
            "\n",
            "Dataframe sin duplicados en la columna E.\n",
            "     A    B  C      E\n",
            "0  1.0  5.0  a   test\n",
            "1  2.0  6.0  b  train\n",
            "4  5.0  9.0  e    foo\n"
          ]
        }
      ]
    },
    {
      "cell_type": "markdown",
      "source": [
        "Renombrar columnas"
      ],
      "metadata": {
        "id": "V1HRFXl4ustK"
      }
    },
    {
      "cell_type": "code",
      "source": [
        "df_renamed = df.rename(columns={'A': 'Alfa', 'B': 'Beta','C':'Charlie','E':'Delta'})\n",
        "print(\"\\nDataframe con columnas renombradas.\")\n",
        "print(df_renamed)"
      ],
      "metadata": {
        "colab": {
          "base_uri": "https://localhost:8080/"
        },
        "id": "7i51x2E5usMg",
        "outputId": "0d6bf1b1-88dd-4c60-c046-21a12e66c39d"
      },
      "execution_count": 15,
      "outputs": [
        {
          "output_type": "stream",
          "name": "stdout",
          "text": [
            "\n",
            "Dataframe con columnas renombradas.\n",
            "   Alfa  Beta Charlie  Delta\n",
            "0   1.0   5.0       a   test\n",
            "1   2.0   6.0       b  train\n",
            "2   NaN   7.0       c   test\n",
            "3   4.0   NaN       d  train\n",
            "4   5.0   9.0       e    foo\n"
          ]
        }
      ]
    }
  ]
}